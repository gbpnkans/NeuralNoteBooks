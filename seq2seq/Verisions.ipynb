{
 "cells": [
  {
   "cell_type": "code",
   "execution_count": 1,
   "metadata": {},
   "outputs": [
    {
     "name": "stderr",
     "output_type": "stream",
     "text": [
      "Using TensorFlow backend.\n"
     ]
    }
   ],
   "source": [
    "import keras as k; \n",
    "import tensorflow as tf\n",
    "import numpy as np\n",
    "import scipy as scipy\n",
    "import pandas as pd\n",
    "import IPython as IPython\n",
    "import matplotlib as matplotlib\n",
    "import sklearn\n"
   ]
  },
  {
   "cell_type": "code",
   "execution_count": 2,
   "metadata": {},
   "outputs": [
    {
     "name": "stdout",
     "output_type": "stream",
     "text": [
      "Keras Version: 2.1.2\n",
      "Tensorflow Version: 1.4.0\n",
      "numpy:1.13.3\n",
      "scipy:1.0.0\n",
      "matplotlib:2.1.1\n",
      "iPython:5.4.1\n",
      "scikit-learn:0.19.1\n"
     ]
    }
   ],
   "source": [
    "\n",
    "print('Keras Version: ' + k.__version__)\n",
    "print('Tensorflow Version: ' + tf.__version__)\n",
    "print('numpy:'+ np.__version__)\n",
    "print('scipy:'+ scipy.__version__)\n",
    "print('matplotlib:' + matplotlib.__version__)\n",
    "print('iPython:' + IPython.__version__)\n",
    "print('scikit-learn:' + sklearn.__version__)"
   ]
  },
  {
   "cell_type": "code",
   "execution_count": null,
   "metadata": {
    "collapsed": true
   },
   "outputs": [],
   "source": []
  }
 ],
 "metadata": {
  "kernelspec": {
   "display_name": "conda_tensorflow_p27",
   "language": "python",
   "name": "conda_tensorflow_p27"
  },
  "language_info": {
   "codemirror_mode": {
    "name": "ipython",
    "version": 2
   },
   "file_extension": ".py",
   "mimetype": "text/x-python",
   "name": "python",
   "nbconvert_exporter": "python",
   "pygments_lexer": "ipython2",
   "version": "2.7.11"
  }
 },
 "nbformat": 4,
 "nbformat_minor": 2
}
